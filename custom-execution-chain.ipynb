{
 "cells": [
  {
   "cell_type": "raw",
   "id": "4947325e",
   "metadata": {},
   "source": [
    "---\n",
    "title: Building Spotify playlists based on vibes using LangChain and GPT\n",
    "description: How to run arbitrary libraries with LangChain to integrate Spotify with GPT, with a nice introduction to APIChain, PALChain and SequentialChain. \n",
    "date: \"2023-03-27\"\n",
    "author: Jonathan Soma\n",
    "format:\n",
    "    html:\n",
    "        toc: true\n",
    "        toc-expand: 2\n",
    "---"
   ]
  },
  {
   "cell_type": "markdown",
   "id": "e987ed6c",
   "metadata": {},
   "source": [
    "Hi, I'm Soma! You can find me on email at [jonathan.soma@gmail.com](mailto:jonathan.soma@gmail.com), on Twitter at [@dangerscarf](https://twitter.com/dangerscarf), or maybe even on [this newsletter I've never sent](https://tinyletter.com/jsoma)."
   ]
  },
  {
   "cell_type": "markdown",
   "id": "546e441c",
   "metadata": {},
   "source": [
    "# The universal need for on-demand, vibes-based Spotify playlists\n",
    "\n",
    "The top track or two for practically any band on Spotify is a *slow one*. The Cars have [Drive](https://www.youtube.com/watch?v=xuZA6qiJVfU), Green Day has [Boulevard of Broken Dreams](https://www.youtube.com/watch?v=Soa3gO7tL-c), Blink 182 has [I Miss You](https://www.youtube.com/watch?v=s1tAYmMjLdY). They put me to sleep!\n",
    "\n",
    "Instead of screaming at Alexa to \"play The Cars\" I want to say **\"play The Cars *but none of those boring slow songs*.\"**\n",
    "\n",
    "Spotify's API includes data for songs like energy level and danceability. If we use [LangChain](https://langchain.readthedocs.io/) and GPT, can we finally talk to our best friend Spotify through natural language?\n",
    "\n",
    "While LangChain supports APIs, the Spotify API is an awful complex OAuth2 beast that doesn't fit the existing examples. The [Spotipy library](https://spotipy.readthedocs.io/) is a lot easier to use, but as of this moment it isn't super-simple to run arbitrary code through LangChain.\n",
    "\n",
    "But let's make it happen! In this walkthrough, we'll look at:\n",
    "\n",
    "1. How LangChain's `APIChain` (API access) and `PALChain` (Python execution) chains are built\n",
    "2. How to take parts of both to allow execution of arbitrary Python tools and summaries of the results\n",
    "\n",
    "If you're a LangChain pro and are just looking for code to run, you can can skip all these words [and just visit the GitHub repo](https://jonathansoma.com/words/custom-execution-chain.html)\n",
    "\n",
    "If you are a less technical person, just relax while you're reading the next few sections! They're the \"why\" for how we end up tackling our problem."
   ]
  },
  {
   "cell_type": "markdown",
   "id": "93b1a8c8",
   "metadata": {},
   "source": [
    "# The Playlist\n",
    "\n",
    "To get the disappointment and/or excitement out of the way early on, here's the playlist we wind up with at the end:"
   ]
  },
  {
   "cell_type": "markdown",
   "id": "ff883dc1",
   "metadata": {},
   "source": [
    "<iframe style=\"border-radius:12px\" src=\"https://open.spotify.com/embed/playlist/0mg8W9WMMwt8pDU6DVHolz?utm_source=generator\" width=\"100%\" height=\"652\" frameBorder=\"0\" allowfullscreen=\"\" allow=\"autoplay; clipboard-write; encrypted-media; fullscreen; picture-in-picture\" loading=\"lazy\"></iframe>"
   ]
  },
  {
   "cell_type": "markdown",
   "id": "8e15ee48",
   "metadata": {},
   "source": [
    "The prompt was \"Give me a list of Cars, Blink 182 and Sum 41 songs that are upbeat, loud and fun. Make sure the songs are popular enough for me to have heard of them.\"\n",
    "\n",
    "::: {.callout-note appearance='simple'}\n",
    "\n",
    "Speaking of The Rock Show, but there's nothing better than listening to it while rolling up to the [NJ Mineral, Fossil, Gem & Jewelry Show](https://nj.show/). It's coming up!!\n",
    "\n",
    ":::"
   ]
  },
  {
   "cell_type": "markdown",
   "id": "fd911fb3",
   "metadata": {},
   "source": [
    "# Preparation and setup\n",
    "\n",
    "## Getting my API keys\n",
    "\n",
    "Both GPT and Spotify require me to prove my identity using **API keys**. If you had my keys you'd be able to impersonate me, talk to my chatbots, and make a bunch of awful playlists – we don't want *any* of those happening. Instead of putting the API keys in my notebook, I'm using [dotenv-python](https://youtu.be/YdgIWTYQ69A) to keep them nice and secret. I recommend it!"
   ]
  },
  {
   "cell_type": "code",
   "execution_count": 24,
   "id": "55c0cca4",
   "metadata": {},
   "outputs": [
    {
     "name": "stdout",
     "output_type": "stream",
     "text": [
      "The dotenv extension is already loaded. To reload it, use:\n",
      "  %reload_ext dotenv\n"
     ]
    }
   ],
   "source": [
    "%load_ext dotenv\n",
    "%dotenv"
   ]
  },
  {
   "cell_type": "markdown",
   "id": "8c6a6c52",
   "metadata": {},
   "source": [
    "## Accessing OpenAI/GPT\n",
    "\n",
    "To access GPT-3.5-turbo, we're use to use a LangChain [chain](https://langchain.readthedocs.io/en/latest/modules/chains/getting_started.html).\n",
    "\n",
    "It's a little more complicated than [when we were talking to fairy tales](multi-language-qa-gpt.ipynb), but the former method of using a plain `OpenAI` object is being deprecated in favor of `ChatOpenAI`."
   ]
  },
  {
   "cell_type": "code",
   "execution_count": 25,
   "id": "7ff4582a",
   "metadata": {},
   "outputs": [],
   "source": [
    "from langchain.chat_models import ChatOpenAI\n",
    "from langchain.prompts import PromptTemplate\n",
    "from langchain import LLMChain\n",
    "\n",
    "llm = ChatOpenAI(model_name='gpt-3.5-turbo')"
   ]
  },
  {
   "cell_type": "markdown",
   "id": "5e8fcbfe",
   "metadata": {},
   "source": [
    "Let's test it out with a sample `PromptTemplate` about energetic songs."
   ]
  },
  {
   "cell_type": "code",
   "execution_count": 26,
   "id": "d48f0951",
   "metadata": {},
   "outputs": [],
   "source": [
    "prompt = PromptTemplate(\n",
    "    input_variables=[\"artist\"],\n",
    "    template=\"What are some of the more energetic songs by {artist}?\",\n",
    ")\n",
    "\n",
    "chain = LLMChain(llm=llm, prompt=prompt)"
   ]
  },
  {
   "cell_type": "markdown",
   "id": "a39597f3",
   "metadata": {},
   "source": [
    "Now that it's assembled, let's use it."
   ]
  },
  {
   "cell_type": "code",
   "execution_count": 27,
   "id": "b940fc66",
   "metadata": {},
   "outputs": [
    {
     "name": "stdout",
     "output_type": "stream",
     "text": [
      "Some of the more energetic songs by The Promise Ring include:\n",
      "\n",
      "1. \"Is This Thing On?\"\n",
      "2. \"Emergency! Emergency!\"\n",
      "3. \"Red & Blue Jeans\"\n",
      "4. \"Happiness is All the Rage\"\n",
      "5. \"Make Me a Chevy\"\n",
      "6. \"Jersey Shore\"\n",
      "7. \"B Is for Bethlehem\"\n",
      "8. \"Why Did We Ever Meet?\"\n",
      "9. \"Stop Playing Guitar\"\n",
      "10. \"Pink Chimneys\"\n"
     ]
    }
   ],
   "source": [
    "response = chain.run(\"The Promise Ring\")\n",
    "print(response)"
   ]
  },
  {
   "cell_type": "markdown",
   "id": "bc65d325",
   "metadata": {},
   "source": [
    "Yes, that's an answer, but **it isn't good enough**. Asking GPT for energetic songs works, I want to at least *pretend* that we're basing this on science! You never know if record labels from the late 90's are funnelling money to OpenAI to bias the results.\n",
    "\n",
    "Luckily, Spotify has that information: their API includes [access a track's audio features](https://developer.spotify.com/documentation/web-api/reference/#/operations/get-several-audio-features) including loudness, danceability and energy! With that in mind, our goal is now to **create a way for GPT and Spotify to interface so that we can leverage that information when building our playlist.**"
   ]
  },
  {
   "cell_type": "markdown",
   "id": "a5c61ce8",
   "metadata": {},
   "source": [
    "## Accessing Spotify\n",
    "\n",
    "We're going to use [the Spotipy Python library](https://spotipy.readthedocs.io/en/2.22.1/) to access Spotify. It handles all of the OAuth login, the refreshing of tokens (they're only good for 5 minutes!), and everything of that ilk."
   ]
  },
  {
   "cell_type": "code",
   "execution_count": 28,
   "id": "66728d1b",
   "metadata": {},
   "outputs": [],
   "source": [
    "import os\n",
    "import spotipy\n",
    "from spotipy.oauth2 import SpotifyClientCredentials\n",
    "\n",
    "auth = SpotifyClientCredentials(\n",
    "    client_id=os.environ['SPOTIPY_CLIENT_ID'],\n",
    "    client_secret=os.environ['SPOTIPY_CLIENT_SECRET']\n",
    ")\n",
    "sp = spotipy.Spotify(auth_manager=auth)"
   ]
  },
  {
   "cell_type": "markdown",
   "id": "68d723e4",
   "metadata": {},
   "source": [
    "If we want songs by the band Wet Leg, we can't just say \"give me Wet Legs top tracks.\" Instead, we need to find Wet Leg's `URI` - uniform resource indicator, Spotify's cataloguing ID – and then use *that* to get the top tracks. It's important to note that **it's almost always a multi-step process to get anything useful from Spotify**.\n",
    "\n",
    "For example, let's say we want to filter for energetic songs, which means we want a track's audio features. If you wanted the audio features for a track but only know the band name, the process looks like what is outlined below:"
   ]
  },
  {
   "cell_type": "markdown",
   "id": "32454c99",
   "metadata": {},
   "source": [
    "### Step one: Find the artist URI\n",
    "\n",
    "We'll use Spotify's search to try to find the artist Wet Leg, and then assume the first result is the right one."
   ]
  },
  {
   "cell_type": "code",
   "execution_count": 29,
   "id": "9e8be85b",
   "metadata": {},
   "outputs": [
    {
     "data": {
      "text/plain": [
       "'spotify:artist:2TwOrUcYnAlIiKmVQkkoSZ'"
      ]
     },
     "execution_count": 29,
     "metadata": {},
     "output_type": "execute_result"
    }
   ],
   "source": [
    "response = sp.search('Wet Leg', type='artist')\n",
    "uri = response['artists']['items'][0]['uri']\n",
    "uri"
   ]
  },
  {
   "cell_type": "markdown",
   "id": "6b057d1b",
   "metadata": {},
   "source": [
    "### Step two: Find the tracks URIs\n",
    "\n",
    "We'll then use the artist's URI to find some top tracks from that artist (there's actually an endpoint for top tracks!)."
   ]
  },
  {
   "cell_type": "code",
   "execution_count": 30,
   "id": "8c48348f",
   "metadata": {},
   "outputs": [
    {
     "name": "stdout",
     "output_type": "stream",
     "text": [
      "70 Wet Dream spotify:track:260Ub1Yuj4CobdISTOBvM9\n",
      "66 Chaise Longue spotify:track:0nys6GusuHnjSYLW0PYYb7\n",
      "63 Being In Love spotify:track:4VBE0mwU8Nmm8hiqfCe4Ve\n",
      "62 Angelica spotify:track:3EwTIu5qka2l5ZekB0b6QC\n",
      "60 Ur Mum spotify:track:4ug5wsIcbAPBun8TCKn2t6\n"
     ]
    }
   ],
   "source": [
    "response = sp.artist_top_tracks(uri)\n",
    "top_five = response['tracks'][:5]\n",
    "\n",
    "for track in top_five:\n",
    "    print(track['popularity'], track['name'], track['uri'])"
   ]
  },
  {
   "cell_type": "markdown",
   "id": "b7a7dd72",
   "metadata": {},
   "source": [
    "### Step three: Find the audio features\n",
    "\n",
    "Instead of coming with the track results, the danceability and all of those scores are in a completely different endpoint! So we'll now use the track URIs to access the audio features."
   ]
  },
  {
   "cell_type": "code",
   "execution_count": 31,
   "id": "47e7960d",
   "metadata": {},
   "outputs": [
    {
     "data": {
      "text/html": [
       "<div>\n",
       "<style scoped>\n",
       "    .dataframe tbody tr th:only-of-type {\n",
       "        vertical-align: middle;\n",
       "    }\n",
       "\n",
       "    .dataframe tbody tr th {\n",
       "        vertical-align: top;\n",
       "    }\n",
       "\n",
       "    .dataframe thead th {\n",
       "        text-align: right;\n",
       "    }\n",
       "</style>\n",
       "<table border=\"1\" class=\"dataframe\">\n",
       "  <thead>\n",
       "    <tr style=\"text-align: right;\">\n",
       "      <th></th>\n",
       "      <th>danceability</th>\n",
       "      <th>energy</th>\n",
       "      <th>key</th>\n",
       "      <th>loudness</th>\n",
       "      <th>mode</th>\n",
       "      <th>speechiness</th>\n",
       "      <th>acousticness</th>\n",
       "      <th>instrumentalness</th>\n",
       "      <th>liveness</th>\n",
       "      <th>valence</th>\n",
       "      <th>tempo</th>\n",
       "      <th>type</th>\n",
       "      <th>id</th>\n",
       "      <th>uri</th>\n",
       "      <th>track_href</th>\n",
       "      <th>analysis_url</th>\n",
       "      <th>duration_ms</th>\n",
       "      <th>time_signature</th>\n",
       "    </tr>\n",
       "  </thead>\n",
       "  <tbody>\n",
       "    <tr>\n",
       "      <th>0</th>\n",
       "      <td>0.721</td>\n",
       "      <td>0.701</td>\n",
       "      <td>2</td>\n",
       "      <td>-5.941</td>\n",
       "      <td>1</td>\n",
       "      <td>0.0306</td>\n",
       "      <td>0.000927</td>\n",
       "      <td>0.026000</td>\n",
       "      <td>0.234</td>\n",
       "      <td>0.892</td>\n",
       "      <td>130.091</td>\n",
       "      <td>audio_features</td>\n",
       "      <td>260Ub1Yuj4CobdISTOBvM9</td>\n",
       "      <td>spotify:track:260Ub1Yuj4CobdISTOBvM9</td>\n",
       "      <td>https://api.spotify.com/v1/tracks/260Ub1Yuj4Co...</td>\n",
       "      <td>https://api.spotify.com/v1/audio-analysis/260U...</td>\n",
       "      <td>140080</td>\n",
       "      <td>3</td>\n",
       "    </tr>\n",
       "    <tr>\n",
       "      <th>1</th>\n",
       "      <td>0.684</td>\n",
       "      <td>0.749</td>\n",
       "      <td>7</td>\n",
       "      <td>-6.565</td>\n",
       "      <td>1</td>\n",
       "      <td>0.0600</td>\n",
       "      <td>0.001350</td>\n",
       "      <td>0.111000</td>\n",
       "      <td>0.141</td>\n",
       "      <td>0.935</td>\n",
       "      <td>160.021</td>\n",
       "      <td>audio_features</td>\n",
       "      <td>0nys6GusuHnjSYLW0PYYb7</td>\n",
       "      <td>spotify:track:0nys6GusuHnjSYLW0PYYb7</td>\n",
       "      <td>https://api.spotify.com/v1/tracks/0nys6GusuHnj...</td>\n",
       "      <td>https://api.spotify.com/v1/audio-analysis/0nys...</td>\n",
       "      <td>196905</td>\n",
       "      <td>4</td>\n",
       "    </tr>\n",
       "    <tr>\n",
       "      <th>2</th>\n",
       "      <td>0.716</td>\n",
       "      <td>0.687</td>\n",
       "      <td>9</td>\n",
       "      <td>-4.940</td>\n",
       "      <td>0</td>\n",
       "      <td>0.0342</td>\n",
       "      <td>0.009220</td>\n",
       "      <td>0.110000</td>\n",
       "      <td>0.123</td>\n",
       "      <td>0.342</td>\n",
       "      <td>126.030</td>\n",
       "      <td>audio_features</td>\n",
       "      <td>4VBE0mwU8Nmm8hiqfCe4Ve</td>\n",
       "      <td>spotify:track:4VBE0mwU8Nmm8hiqfCe4Ve</td>\n",
       "      <td>https://api.spotify.com/v1/tracks/4VBE0mwU8Nmm...</td>\n",
       "      <td>https://api.spotify.com/v1/audio-analysis/4VBE...</td>\n",
       "      <td>122467</td>\n",
       "      <td>4</td>\n",
       "    </tr>\n",
       "    <tr>\n",
       "      <th>3</th>\n",
       "      <td>0.491</td>\n",
       "      <td>0.870</td>\n",
       "      <td>0</td>\n",
       "      <td>-5.138</td>\n",
       "      <td>1</td>\n",
       "      <td>0.0393</td>\n",
       "      <td>0.000141</td>\n",
       "      <td>0.000729</td>\n",
       "      <td>0.368</td>\n",
       "      <td>0.314</td>\n",
       "      <td>131.989</td>\n",
       "      <td>audio_features</td>\n",
       "      <td>3EwTIu5qka2l5ZekB0b6QC</td>\n",
       "      <td>spotify:track:3EwTIu5qka2l5ZekB0b6QC</td>\n",
       "      <td>https://api.spotify.com/v1/tracks/3EwTIu5qka2l...</td>\n",
       "      <td>https://api.spotify.com/v1/audio-analysis/3EwT...</td>\n",
       "      <td>232320</td>\n",
       "      <td>4</td>\n",
       "    </tr>\n",
       "    <tr>\n",
       "      <th>4</th>\n",
       "      <td>0.685</td>\n",
       "      <td>0.720</td>\n",
       "      <td>4</td>\n",
       "      <td>-5.553</td>\n",
       "      <td>1</td>\n",
       "      <td>0.0280</td>\n",
       "      <td>0.007020</td>\n",
       "      <td>0.275000</td>\n",
       "      <td>0.425</td>\n",
       "      <td>0.554</td>\n",
       "      <td>133.016</td>\n",
       "      <td>audio_features</td>\n",
       "      <td>4ug5wsIcbAPBun8TCKn2t6</td>\n",
       "      <td>spotify:track:4ug5wsIcbAPBun8TCKn2t6</td>\n",
       "      <td>https://api.spotify.com/v1/tracks/4ug5wsIcbAPB...</td>\n",
       "      <td>https://api.spotify.com/v1/audio-analysis/4ug5...</td>\n",
       "      <td>201253</td>\n",
       "      <td>4</td>\n",
       "    </tr>\n",
       "  </tbody>\n",
       "</table>\n",
       "</div>"
      ],
      "text/plain": [
       "   danceability  energy  key  loudness  mode  speechiness  acousticness  \\\n",
       "0         0.721   0.701    2    -5.941     1       0.0306      0.000927   \n",
       "1         0.684   0.749    7    -6.565     1       0.0600      0.001350   \n",
       "2         0.716   0.687    9    -4.940     0       0.0342      0.009220   \n",
       "3         0.491   0.870    0    -5.138     1       0.0393      0.000141   \n",
       "4         0.685   0.720    4    -5.553     1       0.0280      0.007020   \n",
       "\n",
       "   instrumentalness  liveness  valence    tempo            type  \\\n",
       "0          0.026000     0.234    0.892  130.091  audio_features   \n",
       "1          0.111000     0.141    0.935  160.021  audio_features   \n",
       "2          0.110000     0.123    0.342  126.030  audio_features   \n",
       "3          0.000729     0.368    0.314  131.989  audio_features   \n",
       "4          0.275000     0.425    0.554  133.016  audio_features   \n",
       "\n",
       "                       id                                   uri  \\\n",
       "0  260Ub1Yuj4CobdISTOBvM9  spotify:track:260Ub1Yuj4CobdISTOBvM9   \n",
       "1  0nys6GusuHnjSYLW0PYYb7  spotify:track:0nys6GusuHnjSYLW0PYYb7   \n",
       "2  4VBE0mwU8Nmm8hiqfCe4Ve  spotify:track:4VBE0mwU8Nmm8hiqfCe4Ve   \n",
       "3  3EwTIu5qka2l5ZekB0b6QC  spotify:track:3EwTIu5qka2l5ZekB0b6QC   \n",
       "4  4ug5wsIcbAPBun8TCKn2t6  spotify:track:4ug5wsIcbAPBun8TCKn2t6   \n",
       "\n",
       "                                          track_href  \\\n",
       "0  https://api.spotify.com/v1/tracks/260Ub1Yuj4Co...   \n",
       "1  https://api.spotify.com/v1/tracks/0nys6GusuHnj...   \n",
       "2  https://api.spotify.com/v1/tracks/4VBE0mwU8Nmm...   \n",
       "3  https://api.spotify.com/v1/tracks/3EwTIu5qka2l...   \n",
       "4  https://api.spotify.com/v1/tracks/4ug5wsIcbAPB...   \n",
       "\n",
       "                                        analysis_url  duration_ms  \\\n",
       "0  https://api.spotify.com/v1/audio-analysis/260U...       140080   \n",
       "1  https://api.spotify.com/v1/audio-analysis/0nys...       196905   \n",
       "2  https://api.spotify.com/v1/audio-analysis/4VBE...       122467   \n",
       "3  https://api.spotify.com/v1/audio-analysis/3EwT...       232320   \n",
       "4  https://api.spotify.com/v1/audio-analysis/4ug5...       201253   \n",
       "\n",
       "   time_signature  \n",
       "0               3  \n",
       "1               4  \n",
       "2               4  \n",
       "3               4  \n",
       "4               4  "
      ]
     },
     "execution_count": 31,
     "metadata": {},
     "output_type": "execute_result"
    }
   ],
   "source": [
    "import pandas as pd\n",
    "\n",
    "uris = [track['uri'] for track in top_five]\n",
    "audio_features = sp.audio_features(uris)\n",
    "pd.DataFrame(audio_features)"
   ]
  },
  {
   "cell_type": "markdown",
   "id": "90c39c0b",
   "metadata": {},
   "source": [
    "So what I'm saying is: we can't just hit one endpoint and run away. **This is a lot of work!**"
   ]
  },
  {
   "cell_type": "markdown",
   "id": "97467ee3",
   "metadata": {},
   "source": [
    "# Existing chains\n",
    "\n",
    "When attempting to talk to the Spotify API through Spotipy, there are two obvious answers from the LangChain documentation that might come to mind:\n",
    "\n",
    "* `APIChain`, which is used for talking to APIs\n",
    "* `PALChain`, which is used for running Python code\n",
    "\n",
    "Now we'll look at the shortcomings of each and why we need to create our own custom chain.\n",
    "\n",
    "## How the APIChain works\n",
    "\n",
    "An APIChain can be used to access an API! This is a slightly adapted version of the [APIChain example from the docs](https://langchain.readthedocs.io/en/latest/modules/chains/examples/api.html)."
   ]
  },
  {
   "cell_type": "code",
   "execution_count": 32,
   "id": "354aff89",
   "metadata": {},
   "outputs": [
    {
     "name": "stdout",
     "output_type": "stream",
     "text": [
      "\n",
      "\n",
      "\u001b[1m> Entering new APIChain chain...\u001b[0m\n",
      "\u001b[32;1m\u001b[1;3mhttps://api.open-meteo.com/v1/forecast?latitude=48.137154&longitude=11.576124&current_weather=true&temperature_unit=fahrenheit\u001b[0m\n",
      "\u001b[33;1m\u001b[1;3m{\"latitude\":48.14,\"longitude\":11.58,\"generationtime_ms\":0.1989603042602539,\"utc_offset_seconds\":0,\"timezone\":\"GMT\",\"timezone_abbreviation\":\"GMT\",\"elevation\":526.0,\"current_weather\":{\"temperature\":50.0,\"windspeed\":16.1,\"winddirection\":254.0,\"weathercode\":3,\"time\":\"2023-03-26T16:00\"}}\u001b[0m\n",
      "\n",
      "\u001b[1m> Finished chain.\u001b[0m\n"
     ]
    },
    {
     "data": {
      "text/plain": [
       "'The weather in Munich, Germany right now is 50 degrees Fahrenheit.'"
      ]
     },
     "execution_count": 32,
     "metadata": {},
     "output_type": "execute_result"
    }
   ],
   "source": [
    "from langchain.chains import APIChain\n",
    "from langchain.chains.api import open_meteo_docs\n",
    "\n",
    "chain_new = APIChain.from_llm_and_api_docs(llm, open_meteo_docs.OPEN_METEO_DOCS, verbose=True)\n",
    "chain_new.run('What is the weather like right now in Munich, Germany in degrees Farenheit? Do not include a forecast.')\n"
   ]
  },
  {
   "cell_type": "markdown",
   "id": "d6b7f605",
   "metadata": {},
   "source": [
    "An important thing to take note of here is `open_meteo_docs.OPEN_METEO_DOCS`: along with our prompt and an llm, we're also sending the documentation for the Open-Meteo API. It looks like this:"
   ]
  },
  {
   "cell_type": "code",
   "execution_count": 40,
   "id": "fbd40b88",
   "metadata": {},
   "outputs": [
    {
     "name": "stdout",
     "output_type": "stream",
     "text": [
      "BASE URL: https://api.open-meteo.com/\n",
      "\n",
      "API Documentation\n",
      "The API endpoint /v1/forecast accepts a geographical coordinate, a list of weather variables and responds with a JSON hourly weather forecast for 7 days. Time always starts at 0:00 today and contains 168 hours. All URL parameters are listed below:\n",
      "\n",
      "Parameter\tFormat\tRequired\tDefault\tDescription\n",
      "latitude, longitude\tFloating point\tYes\t\tGeographical WGS84 coordinate of the location\n",
      "hourly\tString array\tNo\t\tA list of weather variables which should be returned. Values can be comma separated, or multiple &hourly= parameter in the URL can be used.\n",
      "daily\tString array\tNo\t\tA list of daily weather variable aggregations which should be returned. Values can be comma separated, or multiple &daily= parameter in the URL can be used. If daily weather variables are specified, parameter timezone is required.\n",
      "current_weather\tBool\tNo\tfalse\tInclude current weather conditions in the JSON output.\n",
      "temperature_unit\tString\tNo\tcelsius\tIf fahrenheit is set, al\n"
     ]
    }
   ],
   "source": [
    "print(open_meteo_docs.OPEN_METEO_DOCS[:1000])"
   ]
  },
  {
   "cell_type": "markdown",
   "id": "4c8470a0",
   "metadata": {},
   "source": [
    "But what is the chain doing with the Open-Meteo docs? If we [dig around in the source code](https://github.com/hwchase17/langchain/blob/master/langchain/chains/api/base.py) we can find a few lines of code that get into the details:\n",
    "\n",
    "```python\n",
    "get_request_chain = LLMChain(llm=llm, prompt=api_url_prompt)\n",
    "requests_wrapper = RequestsWrapper(headers=headers)\n",
    "get_answer_chain = LLMChain(llm=llm, prompt=api_response_prompt)\n",
    "```\n",
    "\n",
    "These are used in a three-step process:\n",
    "\n",
    "1. Get the API URL\n",
    "2. Use the API URL to get the data\n",
    "3. Process the data into an answer to the question\n",
    "\n",
    "**The first step** builds an `LLMChain` to talk to GPT. LangChain then provides the API documentation to GPT, and asks it to determine the API endpoint to visit.\n",
    "\n",
    "```python\n",
    "\"\"\"You are given the below API Documentation:\n",
    "\n",
    "    {api_docs}\n",
    "\n",
    "Using this documentation, generate the full API url to call for answering the user question.\n",
    "You should build the API url in order to get a response that is as short as possible, while still getting the necessary information to answer the question. Pay attention to deliberately exclude any unnecessary pieces of data in the API call.\n",
    "\n",
    "Question:{question}\n",
    "API url:\"\"\"\n",
    "```\n",
    "\n",
    "**The second step** builds a `RequestsWrapper` to access the API URL and returns the response. But it isn't a human-readable response to our question yet, it's almost always going to be a bunch of JSON.\n",
    "\n",
    "**The final step** uses another `LLMChain` to talk to GPT again: LangChain sends the API response to GPT and asks for a human-readable summary to answer the question.\n",
    "\n",
    "```python\n",
    "\"\"\"Here is the response from the API:\n",
    "\n",
    "{api_response}\n",
    "\n",
    "Summarize this response to answer the original question.\n",
    "Summary:\"\"\"\n",
    "```\n",
    "\n",
    "### Why this doesn't work for our Spotify use case\n",
    "\n",
    "Even though we want to talk to an API, **we want to talk to an API through the Spotipy Python library, not a series of URLs**. Since the `APIChain` is based around making an actual request to somewhere on the internet, this isn't going to work for us.\n",
    "\n",
    "If the Spotify API were a nice simple REST API we could just feed `APIChain` the documentation, but that isn't the case."
   ]
  },
  {
   "cell_type": "markdown",
   "id": "0e1f0aa8",
   "metadata": {},
   "source": [
    "## How the PALChain works\n",
    "\n",
    "A PALChain can be used to create and run arbitrary Python code! This is [the PALChain example from the docs](https://langchain.readthedocs.io/en/latest/modules/chains/examples/pal.html)."
   ]
  },
  {
   "cell_type": "code",
   "execution_count": 16,
   "id": "a48c557d",
   "metadata": {},
   "outputs": [
    {
     "name": "stdout",
     "output_type": "stream",
     "text": [
      "\n",
      "\n",
      "\u001b[1m> Entering new PALChain chain...\u001b[0m\n",
      "\u001b[32;1m\u001b[1;3mdef solution():\n",
      "    \"\"\"Jan has three times the number of pets as Marcia. Marcia has two more pets than Cindy. If Cindy has four pets, how many total pets do the three have?\"\"\"\n",
      "    cindy_pets = 4\n",
      "    marcia_pets = cindy_pets + 2\n",
      "    jan_pets = marcia_pets * 3\n",
      "    total_pets = cindy_pets + marcia_pets + jan_pets\n",
      "    result = total_pets\n",
      "    return result\u001b[0m\n",
      "\n",
      "\u001b[1m> Finished chain.\u001b[0m\n"
     ]
    },
    {
     "data": {
      "text/plain": [
       "'28'"
      ]
     },
     "execution_count": 16,
     "metadata": {},
     "output_type": "execute_result"
    }
   ],
   "source": [
    "from langchain.chains import PALChain\n",
    "\n",
    "pal_chain = PALChain.from_math_prompt(llm, verbose=True)\n",
    "question = \"Jan has three times the number of pets as Marcia. Marcia has two more pets than Cindy. If Cindy has four pets, how many total pets do the three have?\"\n",
    "pal_chain.run(question)"
   ]
  },
  {
   "cell_type": "markdown",
   "id": "993917bc",
   "metadata": {},
   "source": [
    "If we look at [the code for the math chain's prompt](https://github.com/hwchase17/langchain/blob/master/langchain/chains/pal/math_prompt.py) it's *very* long. Here's a portion of it:\n",
    "\n",
    "```python\n",
    "from langchain.prompts.prompt import PromptTemplate\n",
    "\n",
    "template = (\n",
    "    '''\n",
    "Q: Olivia has $23. She bought five bagels for $3 each. How much money does she have left?\n",
    "\n",
    "# solution in Python:\n",
    "\n",
    "\n",
    "def solution():\n",
    "    \"\"\"Olivia has $23. She bought five bagels for $3 each. How much money does she have left?\"\"\"\n",
    "    money_initial = 23\n",
    "    bagels = 5\n",
    "    bagel_cost = 3\n",
    "    money_spent = bagels * bagel_cost\n",
    "    money_left = money_initial - money_spent\n",
    "    result = money_left\n",
    "    return result\n",
    "\n",
    "Q: There are 15 trees in the grove. Grove workers will plant trees in the grove today. After they are done, there will be 21 trees. How many trees did the grove workers plant today?\n",
    "\n",
    "# solution in Python:\n",
    "\n",
    "\n",
    "def solution():\n",
    "    \"\"\"There are 15 trees in the grove. Grove workers will plant trees in the grove today. After they are done, there will be 21 trees. How many trees did the grove workers plant today?\"\"\"\n",
    "    trees_initial = 15\n",
    "    trees_after = 21\n",
    "    trees_added = trees_after - trees_initial\n",
    "    result = trees_added\n",
    "    return result\n",
    "\n",
    "\n",
    "\n",
    "\n",
    "\n",
    "Q: {question}\n",
    "\n",
    "# solution in Python:\n",
    "'''.strip()\n",
    "    + \"\\n\\n\\n\"\n",
    ")\n",
    "MATH_PROMPT = PromptTemplate(input_variables=[\"question\"], template=template)\n",
    "```\n",
    "\n",
    "That prompt only gives you Python code, though, not the actual result! To see what happens with the result we need to [check the PALChain code itself](https://github.com/hwchase17/langchain/blob/master/langchain/chains/pal/base.py#L57-L68), lightly edited for clarity:\n",
    "\n",
    "```python\n",
    "def _call(self, inputs: Dict[str, str]) -> Dict[str, str]:\n",
    "    llm_chain = LLMChain(llm=self.llm, prompt=self.prompt)\n",
    "    code = llm_chain.predict(stop=[self.stop], **inputs)\n",
    "    repl = PythonREPL(_globals=self.python_globals, _locals=self.python_locals)\n",
    "    res = repl.run(code + f\"\\n{self.get_answer_expr}\")\n",
    "    output = {self.output_key: res.strip()}\n",
    "    return output\n",
    "```\n",
    "\n",
    "The code looks a little wild, but the process is pretty simple:\n",
    "\n",
    "1. Use the LLM and the prompt to generate some code\n",
    "2. Create a Python REPL to run the generated code, sending along some global and local variables\n",
    "3. Run the code contained in `self.get_answer_expr` to get the result of the solution.\n",
    "\n",
    "In this case, the `get_answer_expr` is [`print(solution())`](https://github.com/hwchase17/langchain/blob/master/langchain/chains/pal/base.py#L77). Our prompt insists the answer be put in a function called `solution`, so this is how we call the function and obtain the result.\n",
    "\n",
    "### Why this doesn't work for our Spotify use case\n",
    "\n",
    "With a little work, we actually *can* make it work! It just needs a little extra effort and inspiration from `APIChain`."
   ]
  },
  {
   "cell_type": "markdown",
   "id": "5cb46ec6",
   "metadata": {},
   "source": [
    "# Our process\n",
    "\n",
    "Our process is going to take two steps:\n",
    "\n",
    "1. Use a `PALChain` to write and run the Spotipy code\n",
    "2. Use an `LLMChain`to clean it up and provide an answer\n",
    "\n",
    "The separte steps of \"data acquisition first, then clean up for the presentation\" is inspired by our friend `APIChain`. In theory we might even be able to split this into three steps – develop the code, run the code, analyze the results – but let's keep it to two for now.\n",
    "\n",
    "## The Spotipy code prompt\n",
    "\n",
    "How do we get GPT to write Spotipy code for us? It's similar to the API example – giving the documentation to GPT along with our question – but in this case we wouldn't use Spotify's API documentation, we'd use documentation for the Spotipy library.\n",
    "\n",
    "While we could try feeding GPT [the entire documentation page for Spotipy](https://spotipy.readthedocs.io/en/2.22.1/), it's too long to do it all at once. We *could* chunk it and feed it into a reference database that is selectively queried for [relevant content](multi-language-qa-gpt.ipynb)... but that's just too much work. We want something simple.\n",
    "\n",
    "Instead, we're going to go the lazy route: **the Spotify library has been around for *ages* and GPT already knows how it works, so we'll just rely on its in-built knowledge.** We just need to provide a few examples of how we like to work with the library and what we need returned, and GPT will follow our lead.\n",
    "\n",
    "Here's our prompt for generating Spotipy code to access the Spotify API:"
   ]
  },
  {
   "cell_type": "code",
   "execution_count": 33,
   "id": "b07b00d4",
   "metadata": {},
   "outputs": [],
   "source": [
    "from langchain.prompts.prompt import PromptTemplate\n",
    "\n",
    "\n",
    "SPOTIPY_PROMPT_TEMPLATE = (\n",
    "    '''\n",
    "API LIMITATIONS TO NOTE\n",
    "* When requesting track information, the limit is 50 at a time\n",
    "* When requesting audio features, the limit is 100 at a time\n",
    "* When selecting multiple artists, the limit is 50 at a time\n",
    "* When asking for recommendations, the limit is 100 at a time\n",
    "=====\n",
    "\n",
    "Q: What albums has the band Green Day made?\n",
    "\n",
    "# solution in Python:\n",
    "\n",
    "\n",
    "def solution():\n",
    "    \"\"\"What albums has the band Green Day made?\"\"\"\n",
    "    search_results = sp.search(q='Green Day', type='artist')\n",
    "    uri = search_results['artists']['items'][0]['uri']\n",
    "    albums = sp.artist_albums(green_day_uri, album_type='album')\n",
    "    return albums\n",
    "\n",
    "\n",
    "\n",
    "\n",
    "Q: Who are some musicians similar to Fiona Apple?\n",
    "\n",
    "# solution in Python:\n",
    "\n",
    "\n",
    "def solution():\n",
    "    \"\"\"Who are some musicians similar to Fiona Apple?\"\"\"\n",
    "    search_results = sp.search(q='Fiona Apple', type='artist')\n",
    "    uri = search_results['artists']['items'][0].get('uri')\n",
    "    artists = sp.artist_related_artists(uri)\n",
    "    return artists\n",
    "\n",
    "\n",
    "\n",
    "Q: Tell me what songs by The Promise Ring sound like\n",
    "\n",
    "# solution in Python:\n",
    "\n",
    "\n",
    "def solution():\n",
    "    \"\"\"Tell me what songs by The Promise Ring sound like?\"\"\"\n",
    "    search_results = sp.search(q='The Promise Ring', type='artist')\n",
    "    uri = search_results['artists']['items'][0].get('uri')\n",
    "    tracks = sp.artist_top_tracks(uri)\n",
    "    track_uris = [track.get('uri') for track in tracks['tracks']]\n",
    "    audio_details = sp.audio_features(track_uris)\n",
    "    return audio_details\n",
    "\n",
    "\n",
    "\n",
    "Q: Get me the URI for the album The Colour And The Shape\n",
    "\n",
    "# solution in Python:\n",
    "\n",
    "\n",
    "def solution():\n",
    "    \"\"\"Get me the URI for the album The Colour And The Shape\"\"\"\n",
    "    search_results = sp.search(q='The Colour And The Shape', type='album')\n",
    "    uri = search_results['albums']['items'][0].get('uri')\n",
    "    return uri\n",
    "\n",
    "\n",
    "\n",
    "Q: What are the first three songs on Diet Cig's Over Easy?\n",
    "\n",
    "# solution in Python:\n",
    "\n",
    "\n",
    "def solution():\n",
    "    \"\"\"What are the first three songs on Diet Cig's Over Easy?\"\"\"\n",
    "    # Get the URI for the album\n",
    "    search_results = sp.search(q='Diet Cig Over Easy', type='album')\n",
    "    album = search_results['albums']['items'][0]\n",
    "    album_uri = album['uri']\n",
    "    # Get the album tracks\n",
    "    album_tracks = sp.album_tracks(album_uri)['items']\n",
    "    # Sort the tracks by duration\n",
    "    first_three = album_tracks[:3]\n",
    "    tracks = []\n",
    "    # Only include relevant fields\n",
    "    for i, track in enumerate(first_three):\n",
    "        # track['album'] does NOT work with sp.album_tracks\n",
    "        # you need to use album['name'] instead\n",
    "        tracks.append({{\n",
    "            'position': i+1,\n",
    "            'song_name': track.get('name'),\n",
    "            'song_uri': track['artists'][0].get('uri'),\n",
    "            'artist_uri': track['artists'][0].get('uri'),\n",
    "            'album_uri': album.get('uri'),\n",
    "            'album_name': album.get('name')\n",
    "        }})\n",
    "    return tracks\n",
    "\n",
    "\n",
    "Q: What are the thirty most danceable songs by Metallica?\n",
    "\n",
    "# solution in Python:\n",
    "\n",
    "\n",
    "def solution():\n",
    "    \"\"\"What are most danceable songs by Metallica?\"\"\"\n",
    "    search_results = sp.search(q='Metallica', type='artist')\n",
    "    uri = search_results['artists']['items'][0]['uri']\n",
    "    albums = sp.artist_albums(uri, album_type='album')\n",
    "    album_uris = [album['uri'] for album in albums['items']]\n",
    "    tracks = []\n",
    "    for album_uri in album_uris:\n",
    "        album_tracks = sp.album_tracks(album_uri)\n",
    "        tracks.extend(album_tracks['items'])\n",
    "    track_uris = [track['uri'] for track in tracks]\n",
    "    danceable_tracks = []\n",
    "    # You can only have 100 at a time\n",
    "    for i in range(0, len(track_uris), 100):\n",
    "        subset_track_uris = track_uris[i:i+100]\n",
    "        audio_details = sp.audio_features(subset_track_uris)\n",
    "        for j, details in enumerate(audio_details):\n",
    "            if details['danceability'] > 0.7:\n",
    "                track = tracks[i+j]\n",
    "                danceable_tracks.append({{\n",
    "                    'song': track.get('name')\n",
    "                    'album': track.get('album').get('name')\n",
    "                    'danceability': details.get('danceability'),\n",
    "                    'tempo': details.get('tempo'),\n",
    "                }})\n",
    "                # Be sure to add the audio details to the track\n",
    "                danceable_tracks.append(track)\n",
    "    return danceable_tracks\n",
    "\n",
    "\n",
    "\n",
    "Q: {question}. Return a list or dictionary, only including the fields necessary to answer the question, including relevant scores and the uris to the albums/songs/artists mentioned. Only return the data – if the prompt asks for a format such as markdown or a simple string, ignore it: you are only meant to provide the information, not the formatting. A later step in the process will convert the data into the new format (table, sentence, etc).\n",
    "\n",
    "# solution in Python:\n",
    "'''.strip()\n",
    "    + \"\\n\\n\\n\"\n",
    ")\n",
    "\n",
    "SPOTIPY_PROMPT = PromptTemplate(input_variables=[\"question\"], template=SPOTIPY_PROMPT_TEMPLATE)"
   ]
  },
  {
   "cell_type": "markdown",
   "id": "ad26dce3",
   "metadata": {},
   "source": [
    "## PALChain for data access\n",
    "\n",
    "The PALChain example from the docs [makes it look so simple](https://python.langchain.com/en/latest/modules/chains/examples/pal.html):\n",
    "\n",
    "```python\n",
    "pal_chain = PALChain.from_math_prompt(llm, verbose=True)\n",
    "question = \"Jan has three times the number of pets as Marcia. Marcia has two more pets than Cindy. If Cindy has four pets, how many total pets do the three have?\"\n",
    "pal_chain.run(question)\n",
    "```\n",
    "\n",
    "But a lot of work is happening behind the scenes! In our case, we're going to be building a PALChain from scratch instead of relying on a constructor.\n",
    "\n",
    "There are a couple important additions we make as we initialize the PALChain. First, we need to provide our initialized and authenticated Spotipy `sp` instance so the PythonREPL can access Spotipy. We'll do this using `python_globals=`.\n",
    "\n",
    "```python\n",
    "python_globals={\n",
    "    'sp': sp\n",
    "},\n",
    "```\n",
    "\n",
    "The next step is wrangling our data. Results from chains come as strings, but the Spotify API returns JSON (or more specifically, a Python dictionary). To nicely convert our dictionary into a string we'll be using `json.dumps`. The `json` module isn't included by default, so this requires importing hte json library before we do the conversion.\n",
    "\n",
    "Both of these steps are squished into the `get_answer_expr` parameter. It's a bit garish but it works!\n",
    "\n",
    "```python\n",
    "get_answer_expr=\"import json; print(json.dumps(solution()))\",\n",
    "```\n",
    "\n",
    "Finally, we're also adding `return_intermediate_steps=True` to make sure it returns the result of the code running *and* the code it ran.\n",
    "\n",
    "This is what it looks like all put together:"
   ]
  },
  {
   "cell_type": "code",
   "execution_count": 34,
   "id": "cd22adf9",
   "metadata": {},
   "outputs": [],
   "source": [
    "from langchain.chains import PALChain\n",
    "\n",
    "spotify_chain = PALChain(\n",
    "    llm=llm,\n",
    "    prompt=SPOTIPY_PROMPT,\n",
    "    python_globals={\n",
    "        'sp': sp\n",
    "    },\n",
    "    stop='\\n\\n\\n',\n",
    "    verbose=True,\n",
    "    return_intermediate_steps=True,\n",
    "    get_answer_expr=\"import json; print(json.dumps(solution()))\",\n",
    ")"
   ]
  },
  {
   "cell_type": "markdown",
   "id": "910a331a",
   "metadata": {},
   "source": [
    "It's complicated enough, but does it work?"
   ]
  },
  {
   "cell_type": "code",
   "execution_count": 35,
   "id": "ae856bc5",
   "metadata": {},
   "outputs": [
    {
     "name": "stdout",
     "output_type": "stream",
     "text": [
      "\n",
      "\n",
      "\u001b[1m> Entering new PALChain chain...\u001b[0m\n",
      "\u001b[32;1m\u001b[1;3mdef solution():\n",
      "    \"\"\"What are the most popular Bouncing Souls songs?\"\"\"\n",
      "    search_results = sp.search(q='Bouncing Souls', type='artist')\n",
      "    uri = search_results['artists']['items'][0].get('uri')\n",
      "    top_tracks = sp.artist_top_tracks(uri)\n",
      "    top_track_uris = [track.get('uri') for track in top_tracks['tracks']]\n",
      "    audio_details = sp.audio_features(top_track_uris)\n",
      "    popular_songs = []\n",
      "    for i, track in enumerate(top_tracks['tracks']):\n",
      "        details = audio_details[i]\n",
      "        popular_songs.append({\n",
      "            'song_name': track.get('name'),\n",
      "            'song_uri': track.get('uri'),\n",
      "            'artist_name': track.get('artists')[0].get('name'),\n",
      "            'artist_uri': track.get('artists')[0].get('uri'),\n",
      "            'album_name': track.get('album').get('name'),\n",
      "            'album_uri': track.get('album').get('uri'),\n",
      "            'popularity': track.get('popularity'),\n",
      "            'danceability': details.get('danceability'),\n",
      "            'energy': details.get('energy'),\n",
      "            'key': details.get('key'),\n",
      "            'loudness': details.get('loudness'),\n",
      "            'mode': details.get('mode'),\n",
      "            'speechiness': details.get('speechiness'),\n",
      "            'acousticness': details.get('acousticness'),\n",
      "            'instrumentalness': details.get('instrumentalness'),\n",
      "            'liveness': details.get('liveness'),\n",
      "            'valence': details.get('valence'),\n",
      "            'tempo': details.get('tempo'),\n",
      "        })\n",
      "    return popular_songs[:10] # Return top 10 songs\u001b[0m\n",
      "\n",
      "\u001b[1m> Finished chain.\u001b[0m\n"
     ]
    },
    {
     "data": {
      "text/plain": [
       "'[{\"song_name\": \"True Believers\", \"song_uri\": \"spotify:track:4fRmFVMd0c1SGfzazBJIM8\", \"artist_name\": \"The Bouncing Souls\", \"artist_uri\": \"spotify:artist:3mvTAjG7rcyk7DQzLwauzV\", \"album_name\": \"How I Spent My Summer Vacation\", \"album_uri\": \"spotify:album:64zbLX1ze8N3kcAMX0qq7G\", \"popularity\": 55, \"danceability\": 0.237, \"energy\": 0.981, \"key\": 0, \"loudness\": -4.32, \"mode\": 1, \"speechiness\": 0.0989, \"acousticness\": 0.000296, \"instrumentalness\": 3.81e-05, \"liveness\": 0.202, \"valence\": 0.475, \"tempo\": 98.181}, {\"song_name\": \"Lean On Sheena\", \"song_uri\": \"spotify:track:7IR7GUO0dUyUsBp7BfQ3vJ\", \"artist_name\": \"The Bouncing Souls\", \"artist_uri\": \"spotify:artist:3mvTAjG7rcyk7DQzLwauzV\", \"album_name\": \"The Gold Record\", \"album_uri\": \"spotify:album:3MF7PvmrMjEXGvA8fP3L6l\", \"popularity\": 51, \"danceability\": 0.491, \"energy\": 0.866, \"key\": 11, \"loudness\": -4.431, \"mode\": 1, \"speechiness\": 0.0583, \"acousticness\": 0.16, \"instrumentalness\": 0.000211, \"liveness\": 0.13, \"valence\": 0.694, \"tempo\": 175.969}, {\"song_name\": \"Hopeless Romantic\", \"song_uri\": \"spotify:track:180mXjN61yhrKhbY2yQc0E\", \"artist_name\": \"The Bouncing Souls\", \"artist_uri\": \"spotify:artist:3mvTAjG7rcyk7DQzLwauzV\", \"album_name\": \"Hopeless Romantic\", \"album_uri\": \"spotify:album:56CbFyDsG65LI1Eoh7hsOT\", \"popularity\": 49, \"danceability\": 0.243, \"energy\": 0.981, \"key\": 4, \"loudness\": -5.251, \"mode\": 1, \"speechiness\": 0.074, \"acousticness\": 0.000164, \"instrumentalness\": 1.11e-05, \"liveness\": 0.207, \"valence\": 0.216, \"tempo\": 105.022}, {\"song_name\": \"Manthem\", \"song_uri\": \"spotify:track:5pSjxUAwOol5e0TWp1ecHC\", \"artist_name\": \"The Bouncing Souls\", \"artist_uri\": \"spotify:artist:3mvTAjG7rcyk7DQzLwauzV\", \"album_name\": \"How I Spent My Summer Vacation\", \"album_uri\": \"spotify:album:64zbLX1ze8N3kcAMX0qq7G\", \"popularity\": 46, \"danceability\": 0.524, \"energy\": 0.986, \"key\": 2, \"loudness\": -2.865, \"mode\": 1, \"speechiness\": 0.0634, \"acousticness\": 9.44e-05, \"instrumentalness\": 0.000214, \"liveness\": 0.0772, \"valence\": 0.724, \"tempo\": 94.348}, {\"song_name\": \"Sing Along Forever\", \"song_uri\": \"spotify:track:5feYKXxg4HL2APTQGCfAav\", \"artist_name\": \"The Bouncing Souls\", \"artist_uri\": \"spotify:artist:3mvTAjG7rcyk7DQzLwauzV\", \"album_name\": \"Anchors Aweigh\", \"album_uri\": \"spotify:album:1xgfRXjCoynPLqtdNu50pR\", \"popularity\": 46, \"danceability\": 0.592, \"energy\": 0.964, \"key\": 0, \"loudness\": -3.672, \"mode\": 1, \"speechiness\": 0.0817, \"acousticness\": 0.00912, \"instrumentalness\": 0, \"liveness\": 0.27, \"valence\": 0.585, \"tempo\": 101.252}, {\"song_name\": \"Say Anything\", \"song_uri\": \"spotify:track:06peZfvxR5721oGqHwogha\", \"artist_name\": \"The Bouncing Souls\", \"artist_uri\": \"spotify:artist:3mvTAjG7rcyk7DQzLwauzV\", \"album_name\": \"The Bouncing Souls\", \"album_uri\": \"spotify:album:7LgICzKkhaLV9Gttn8xM7a\", \"popularity\": 45, \"danceability\": 0.448, \"energy\": 0.995, \"key\": 6, \"loudness\": -3.111, \"mode\": 1, \"speechiness\": 0.0539, \"acousticness\": 0.00275, \"instrumentalness\": 0, \"liveness\": 0.297, \"valence\": 0.643, \"tempo\": 101.405}, {\"song_name\": \"Ole\", \"song_uri\": \"spotify:track:2McQQA5nCLVL0XvzcxWhFC\", \"artist_name\": \"The Bouncing Souls\", \"artist_uri\": \"spotify:artist:3mvTAjG7rcyk7DQzLwauzV\", \"album_name\": \"Hopeless Romantic\", \"album_uri\": \"spotify:album:56CbFyDsG65LI1Eoh7hsOT\", \"popularity\": 43, \"danceability\": 0.33, \"energy\": 0.833, \"key\": 7, \"loudness\": -6.507, \"mode\": 1, \"speechiness\": 0.0768, \"acousticness\": 0.0491, \"instrumentalness\": 0, \"liveness\": 0.687, \"valence\": 0.553, \"tempo\": 128.329}, {\"song_name\": \"Ten Stories High\", \"song_uri\": \"spotify:track:1t9Y1HGwikUCCo5xCupAnT\", \"artist_name\": \"The Bouncing Souls\", \"artist_uri\": \"spotify:artist:3mvTAjG7rcyk7DQzLwauzV\", \"album_name\": \"Ten Stories High\", \"album_uri\": \"spotify:album:0wdbr46ndnwB1cgZoNzT48\", \"popularity\": 30, \"danceability\": 0.361, \"energy\": 0.984, \"key\": 5, \"loudness\": -1.913, \"mode\": 1, \"speechiness\": 0.0883, \"acousticness\": 0.000322, \"instrumentalness\": 0.000873, \"liveness\": 0.329, \"valence\": 0.491, \"tempo\": 198.064}, {\"song_name\": \"Kids and Heroes\", \"song_uri\": \"spotify:track:7ru4QA7k7ViuLS9oDtdRBI\", \"artist_name\": \"The Bouncing Souls\", \"artist_uri\": \"spotify:artist:3mvTAjG7rcyk7DQzLwauzV\", \"album_name\": \"Anchors Aweigh\", \"album_uri\": \"spotify:album:1xgfRXjCoynPLqtdNu50pR\", \"popularity\": 43, \"danceability\": 0.405, \"energy\": 0.963, \"key\": 0, \"loudness\": -5.216, \"mode\": 1, \"speechiness\": 0.0697, \"acousticness\": 0.0127, \"instrumentalness\": 0.000256, \"liveness\": 0.289, \"valence\": 0.198, \"tempo\": 101.759}, {\"song_name\": \"Kate Is Great\", \"song_uri\": \"spotify:track:1VT2wLreLu0l7E4T0JDedh\", \"artist_name\": \"The Bouncing Souls\", \"artist_uri\": \"spotify:artist:3mvTAjG7rcyk7DQzLwauzV\", \"album_name\": \"The Bouncing Souls\", \"album_uri\": \"spotify:album:7LgICzKkhaLV9Gttn8xM7a\", \"popularity\": 42, \"danceability\": 0.358, \"energy\": 0.93, \"key\": 2, \"loudness\": -4.726, \"mode\": 1, \"speechiness\": 0.164, \"acousticness\": 0.0822, \"instrumentalness\": 0, \"liveness\": 0.0699, \"valence\": 0.809, \"tempo\": 175.011}]'"
      ]
     },
     "execution_count": 35,
     "metadata": {},
     "output_type": "execute_result"
    }
   ],
   "source": [
    "spotify_response = spotify_chain({'question': \"What are the most popular Bouncing Souls songs?\"})\n",
    "spotify_response['result']"
   ]
  },
  {
   "cell_type": "markdown",
   "id": "6d72f3ad",
   "metadata": {},
   "source": [
    "Let's look at the three separate keys the `PALChain` response gives us."
   ]
  },
  {
   "cell_type": "markdown",
   "id": "681d5014",
   "metadata": {},
   "source": [
    "First, the **question**:"
   ]
  },
  {
   "cell_type": "code",
   "execution_count": 36,
   "id": "c0b0889a",
   "metadata": {},
   "outputs": [
    {
     "data": {
      "text/plain": [
       "'What are the most popular Bouncing Souls songs?'"
      ]
     },
     "execution_count": 36,
     "metadata": {},
     "output_type": "execute_result"
    }
   ],
   "source": [
    "spotify_response['question']"
   ]
  },
  {
   "cell_type": "markdown",
   "id": "0c0093d5",
   "metadata": {},
   "source": [
    "Second, the **intermediate steps** (the code that it ran):"
   ]
  },
  {
   "cell_type": "code",
   "execution_count": 37,
   "id": "92df56d4",
   "metadata": {},
   "outputs": [
    {
     "name": "stdout",
     "output_type": "stream",
     "text": [
      "def solution():\n",
      "    \"\"\"What are the most popular Bouncing Souls songs?\"\"\"\n",
      "    search_results = sp.search(q='Bouncing Souls', type='artist')\n",
      "    uri = search_results['artists']['items'][0].get('uri')\n",
      "    top_tracks = sp.artist_top_tracks(uri)\n",
      "    top_track_uris = [track.get('uri') for track in top_tracks['tracks']]\n",
      "    audio_details = sp.audio_features(top_track_uris)\n",
      "    popular_songs = []\n",
      "    for i, track in enumerate(top_tracks['tracks']):\n",
      "        details = audio_details[i]\n",
      "        popular_songs.append({\n",
      "            'song_name': track.get('name'),\n",
      "            'song_uri': track.get('uri'),\n",
      "            'artist_name': track.get('artists')[0].get('name'),\n",
      "            'artist_uri': track.get('artists')[0].get('uri'),\n",
      "            'album_name': track.get('album').get('name'),\n",
      "            'album_uri': track.get('album').get('uri'),\n",
      "            'popularity': track.get('popularity'),\n",
      "            'danceability': details.get('danceability'),\n",
      "            'energy': details.get('energy'),\n",
      "            'key': details.get('key'),\n",
      "            'loudness': details.get('loudness'),\n",
      "            'mode': details.get('mode'),\n",
      "            'speechiness': details.get('speechiness'),\n",
      "            'acousticness': details.get('acousticness'),\n",
      "            'instrumentalness': details.get('instrumentalness'),\n",
      "            'liveness': details.get('liveness'),\n",
      "            'valence': details.get('valence'),\n",
      "            'tempo': details.get('tempo'),\n",
      "        })\n",
      "    return popular_songs[:10] # Return top 10 songs\n"
     ]
    }
   ],
   "source": [
    "print(spotify_response['intermediate_steps'])"
   ]
  },
  {
   "cell_type": "markdown",
   "id": "5f543191",
   "metadata": {},
   "source": [
    "Finally, the **actual response**. In the `PALChain` examples it's mostly the result of a quick calculation, but this time it's a whole big mess of JSON:"
   ]
  },
  {
   "cell_type": "code",
   "execution_count": 38,
   "id": "399795da",
   "metadata": {},
   "outputs": [
    {
     "data": {
      "text/plain": [
       "'[{\"song_name\": \"True Believers\", \"song_uri\": \"spotify:track:4fRmFVMd0c1SGfzazBJIM8\", \"artist_name\": \"The Bouncing Souls\", \"artist_uri\": \"spotify:artist:3mvTAjG7rcyk7DQzLwauzV\", \"album_name\": \"How I Spent My Summer Vacation\", \"album_uri\": \"spotify:album:64zbLX1ze8N3kcAMX0qq7G\", \"popularity\": 55, \"danceability\": 0.237, \"energy\": 0.981, \"key\": 0, \"loudness\": -4.32, \"mode\": 1, \"speechiness\": 0.0989, \"acousticness\": 0.000296, \"instrumentalness\": 3.81e-05, \"liveness\": 0.202, \"valence\": 0.475, \"tempo\": 98.181}, {\"song_name\": \"Lean On Sheena\", \"song_uri\": \"spotify:track:7IR7GUO0dUyUsBp7BfQ3vJ\", \"artist_name\": \"The Bouncing Souls\", \"artist_uri\": \"spotify:artist:3mvTAjG7rcyk7DQzLwauzV\", \"album_name\": \"The Gold Record\", \"album_uri\": \"spotify:album:3MF7PvmrMjEXGvA8fP3L6l\", \"popularity\": 51, \"danceability\": 0.491, \"energy\": 0.866, \"key\": 11, \"loudness\": -4.431, \"mode\": 1, \"speechiness\": 0.0583, \"acousticness\": 0.16, \"instrumentalness\": 0.000211, \"liveness\": 0.13, \"valence\": 0.694, \"tempo\": 175.969}, {\"song_name\": \"Hopeless Romantic\", \"song_uri\": \"spotify:track:180mXjN61yhrKhbY2yQc0E\", \"artist_name\": \"The Bouncing Souls\", \"artist_uri\": \"spotify:artist:3mvTAjG7rcyk7DQzLwauzV\", \"album_name\": \"Hopeless Romantic\", \"album_uri\": \"spotify:album:56CbFyDsG65LI1Eoh7hsOT\", \"popularity\": 49, \"danceability\": 0.243, \"energy\": 0.981, \"key\": 4, \"loudness\": -5.251, \"mode\": 1, \"speechiness\": 0.074, \"acousticness\": 0.000164, \"instrumentalness\": 1.11e-05, \"liveness\": 0.207, \"valence\": 0.216, \"tempo\": 105.022}, {\"song_name\": \"Manthem\", \"song_uri\": \"spotify:track:5pSjxUAwOol5e0TWp1ecHC\", \"artist_name\": \"The Bouncing Souls\", \"artist_uri\": \"spotify:artist:3mvTAjG7rcyk7DQzLwauzV\", \"album_name\": \"How I Spent My Summer Vacation\", \"album_uri\": \"spotify:album:64zbLX1ze8N3kcAMX0qq7G\", \"popularity\": 46, \"danceability\": 0.524, \"energy\": 0.986, \"key\": 2, \"loudness\": -2.865, \"mode\": 1, \"speechiness\": 0.0634, \"acousticness\": 9.44e-05, \"instrumentalness\": 0.000214, \"liveness\": 0.0772, \"valence\": 0.724, \"tempo\": 94.348}, {\"song_name\": \"Sing Along Forever\", \"song_uri\": \"spotify:track:5feYKXxg4HL2APTQGCfAav\", \"artist_name\": \"The Bouncing Souls\", \"artist_uri\": \"spotify:artist:3mvTAjG7rcyk7DQzLwauzV\", \"album_name\": \"Anchors Aweigh\", \"album_uri\": \"spotify:album:1xgfRXjCoynPLqtdNu50pR\", \"popularity\": 46, \"danceability\": 0.592, \"energy\": 0.964, \"key\": 0, \"loudness\": -3.672, \"mode\": 1, \"speechiness\": 0.0817, \"acousticness\": 0.00912, \"instrumentalness\": 0, \"liveness\": 0.27, \"valence\": 0.585, \"tempo\": 101.252}, {\"song_name\": \"Say Anything\", \"song_uri\": \"spotify:track:06peZfvxR5721oGqHwogha\", \"artist_name\": \"The Bouncing Souls\", \"artist_uri\": \"spotify:artist:3mvTAjG7rcyk7DQzLwauzV\", \"album_name\": \"The Bouncing Souls\", \"album_uri\": \"spotify:album:7LgICzKkhaLV9Gttn8xM7a\", \"popularity\": 45, \"danceability\": 0.448, \"energy\": 0.995, \"key\": 6, \"loudness\": -3.111, \"mode\": 1, \"speechiness\": 0.0539, \"acousticness\": 0.00275, \"instrumentalness\": 0, \"liveness\": 0.297, \"valence\": 0.643, \"tempo\": 101.405}, {\"song_name\": \"Ole\", \"song_uri\": \"spotify:track:2McQQA5nCLVL0XvzcxWhFC\", \"artist_name\": \"The Bouncing Souls\", \"artist_uri\": \"spotify:artist:3mvTAjG7rcyk7DQzLwauzV\", \"album_name\": \"Hopeless Romantic\", \"album_uri\": \"spotify:album:56CbFyDsG65LI1Eoh7hsOT\", \"popularity\": 43, \"danceability\": 0.33, \"energy\": 0.833, \"key\": 7, \"loudness\": -6.507, \"mode\": 1, \"speechiness\": 0.0768, \"acousticness\": 0.0491, \"instrumentalness\": 0, \"liveness\": 0.687, \"valence\": 0.553, \"tempo\": 128.329}, {\"song_name\": \"Ten Stories High\", \"song_uri\": \"spotify:track:1t9Y1HGwikUCCo5xCupAnT\", \"artist_name\": \"The Bouncing Souls\", \"artist_uri\": \"spotify:artist:3mvTAjG7rcyk7DQzLwauzV\", \"album_name\": \"Ten Stories High\", \"album_uri\": \"spotify:album:0wdbr46ndnwB1cgZoNzT48\", \"popularity\": 30, \"danceability\": 0.361, \"energy\": 0.984, \"key\": 5, \"loudness\": -1.913, \"mode\": 1, \"speechiness\": 0.0883, \"acousticness\": 0.000322, \"instrumentalness\": 0.000873, \"liveness\": 0.329, \"valence\": 0.491, \"tempo\": 198.064}, {\"song_name\": \"Kids and Heroes\", \"song_uri\": \"spotify:track:7ru4QA7k7ViuLS9oDtdRBI\", \"artist_name\": \"The Bouncing Souls\", \"artist_uri\": \"spotify:artist:3mvTAjG7rcyk7DQzLwauzV\", \"album_name\": \"Anchors Aweigh\", \"album_uri\": \"spotify:album:1xgfRXjCoynPLqtdNu50pR\", \"popularity\": 43, \"danceability\": 0.405, \"energy\": 0.963, \"key\": 0, \"loudness\": -5.216, \"mode\": 1, \"speechiness\": 0.0697, \"acousticness\": 0.0127, \"instrumentalness\": 0.000256, \"liveness\": 0.289, \"valence\": 0.198, \"tempo\": 101.759}, {\"song_name\": \"Kate Is Great\", \"song_uri\": \"spotify:track:1VT2wLreLu0l7E4T0JDedh\", \"artist_name\": \"The Bouncing Souls\", \"artist_uri\": \"spotify:artist:3mvTAjG7rcyk7DQzLwauzV\", \"album_name\": \"The Bouncing Souls\", \"album_uri\": \"spotify:album:7LgICzKkhaLV9Gttn8xM7a\", \"popularity\": 42, \"danceability\": 0.358, \"energy\": 0.93, \"key\": 2, \"loudness\": -4.726, \"mode\": 1, \"speechiness\": 0.164, \"acousticness\": 0.0822, \"instrumentalness\": 0, \"liveness\": 0.0699, \"valence\": 0.809, \"tempo\": 175.011}]'"
      ]
     },
     "execution_count": 38,
     "metadata": {},
     "output_type": "execute_result"
    }
   ],
   "source": [
    "spotify_response['result']"
   ]
  },
  {
   "cell_type": "markdown",
   "id": "530dc33e",
   "metadata": {},
   "source": [
    "**Looks great!** These don't answer our question, they only provides the data, so we'll need one more step."
   ]
  },
  {
   "cell_type": "markdown",
   "id": "22d386d9",
   "metadata": {},
   "source": [
    "## LLMChain for cleanup\n",
    "\n",
    "This is similar to what happens in the `APIChain`: we have an API response, but we want something a little more human.  We'll use an `LLMChain` to send the JSON to GPT along with our question, then get back a readable response."
   ]
  },
  {
   "cell_type": "code",
   "execution_count": 325,
   "id": "0fdfacea",
   "metadata": {},
   "outputs": [],
   "source": [
    "RESPONSE_CLEANUP_PROMPT_TEMPLATE = (\"\"\" \n",
    "Using this code:\n",
    "\n",
    "```python\n",
    "{intermediate_steps}\n",
    "```\n",
    "\n",
    "We got the following output from the Spotify API:\n",
    "\n",
    "```json\n",
    "{result}\n",
    "```\n",
    "\n",
    "Using the output above as your data source, answer the question {question}. Don't describe the code or process, just answer the question.\n",
    "Answer:\"\"\"\n",
    ")\n",
    "\n",
    "RESPONSE_CLEANUP_PROMPT = PromptTemplate(\n",
    "    input_variables=[\"question\", \"intermediate_steps\", \"result\"],\n",
    "    template=RESPONSE_CLEANUP_PROMPT_TEMPLATE,\n",
    ")"
   ]
  },
  {
   "cell_type": "markdown",
   "id": "2a1db8f8",
   "metadata": {},
   "source": [
    "In the prompt above, we're providing three things to the prompt:\n",
    "\n",
    "* The original **question** we want an answer to\n",
    "* The **intermediate steps**, which is the actual Python code the `PALChain` created\n",
    "* The **result**, the *output* of the Python code from the `PALChain` (aka the JSON)\n",
    "\n",
    "We can now use this prompt with an `LLMChain` to turn the JSON into an actual answer."
   ]
  },
  {
   "cell_type": "code",
   "execution_count": 326,
   "id": "1a38aea2",
   "metadata": {},
   "outputs": [],
   "source": [
    "explainer_chain = LLMChain(\n",
    "    llm=llm,\n",
    "    prompt=RESPONSE_CLEANUP_PROMPT,\n",
    "    verbose=True,\n",
    "    output_key='answer'\n",
    ")"
   ]
  },
  {
   "cell_type": "markdown",
   "id": "f6897d1a",
   "metadata": {},
   "source": [
    "Now that we've built the structure of the explainer, let's feed it the previous Spotify response and see what happens."
   ]
  },
  {
   "cell_type": "code",
   "execution_count": 327,
   "id": "4b9454ce",
   "metadata": {},
   "outputs": [
    {
     "name": "stdout",
     "output_type": "stream",
     "text": [
      "\n",
      "\n",
      "\u001b[1m> Entering new LLMChain chain...\u001b[0m\n",
      "Prompt after formatting:\n",
      "\u001b[32;1m\u001b[1;3m \n",
      "Using this code:\n",
      "\n",
      "```python\n",
      "def solution():\n",
      "    \"\"\"What are the most popular Bouncing Souls songs?\"\"\"\n",
      "    search_results = sp.search(q='Bouncing Souls', type='artist')\n",
      "    uri = search_results['artists']['items'][0]['uri']\n",
      "    top_tracks = sp.artist_top_tracks(uri)\n",
      "    tracks = []\n",
      "    for i, track in enumerate(top_tracks['tracks']):\n",
      "        # Only include relevant fields\n",
      "        tracks.append({\n",
      "            'position': i+1,\n",
      "            'song_name': track.get('name'),\n",
      "            'song_uri': track.get('uri'),\n",
      "            'artist_uri': uri,\n",
      "            'album_uri': track.get('album').get('uri'),\n",
      "            'album_name': track.get('album').get('name'),\n",
      "            'popularity': track.get('popularity')\n",
      "        })\n",
      "    return tracks\n",
      "```\n",
      "\n",
      "We got the following output from the Spotify API:\n",
      "\n",
      "```json\n",
      "[{\"position\": 1, \"song_name\": \"True Believers\", \"song_uri\": \"spotify:track:4fRmFVMd0c1SGfzazBJIM8\", \"artist_uri\": \"spotify:artist:3mvTAjG7rcyk7DQzLwauzV\", \"album_uri\": \"spotify:album:64zbLX1ze8N3kcAMX0qq7G\", \"album_name\": \"How I Spent My Summer Vacation\", \"popularity\": 54}, {\"position\": 2, \"song_name\": \"Lean On Sheena\", \"song_uri\": \"spotify:track:7IR7GUO0dUyUsBp7BfQ3vJ\", \"artist_uri\": \"spotify:artist:3mvTAjG7rcyk7DQzLwauzV\", \"album_uri\": \"spotify:album:3MF7PvmrMjEXGvA8fP3L6l\", \"album_name\": \"The Gold Record\", \"popularity\": 51}, {\"position\": 3, \"song_name\": \"Hopeless Romantic\", \"song_uri\": \"spotify:track:180mXjN61yhrKhbY2yQc0E\", \"artist_uri\": \"spotify:artist:3mvTAjG7rcyk7DQzLwauzV\", \"album_uri\": \"spotify:album:56CbFyDsG65LI1Eoh7hsOT\", \"album_name\": \"Hopeless Romantic\", \"popularity\": 49}, {\"position\": 4, \"song_name\": \"Manthem\", \"song_uri\": \"spotify:track:5pSjxUAwOol5e0TWp1ecHC\", \"artist_uri\": \"spotify:artist:3mvTAjG7rcyk7DQzLwauzV\", \"album_uri\": \"spotify:album:64zbLX1ze8N3kcAMX0qq7G\", \"album_name\": \"How I Spent My Summer Vacation\", \"popularity\": 46}, {\"position\": 5, \"song_name\": \"Sing Along Forever\", \"song_uri\": \"spotify:track:5feYKXxg4HL2APTQGCfAav\", \"artist_uri\": \"spotify:artist:3mvTAjG7rcyk7DQzLwauzV\", \"album_uri\": \"spotify:album:1xgfRXjCoynPLqtdNu50pR\", \"album_name\": \"Anchors Aweigh\", \"popularity\": 46}, {\"position\": 6, \"song_name\": \"Say Anything\", \"song_uri\": \"spotify:track:06peZfvxR5721oGqHwogha\", \"artist_uri\": \"spotify:artist:3mvTAjG7rcyk7DQzLwauzV\", \"album_uri\": \"spotify:album:7LgICzKkhaLV9Gttn8xM7a\", \"album_name\": \"The Bouncing Souls\", \"popularity\": 45}, {\"position\": 7, \"song_name\": \"Ole\", \"song_uri\": \"spotify:track:2McQQA5nCLVL0XvzcxWhFC\", \"artist_uri\": \"spotify:artist:3mvTAjG7rcyk7DQzLwauzV\", \"album_uri\": \"spotify:album:56CbFyDsG65LI1Eoh7hsOT\", \"album_name\": \"Hopeless Romantic\", \"popularity\": 43}, {\"position\": 8, \"song_name\": \"Kids and Heroes\", \"song_uri\": \"spotify:track:7ru4QA7k7ViuLS9oDtdRBI\", \"artist_uri\": \"spotify:artist:3mvTAjG7rcyk7DQzLwauzV\", \"album_uri\": \"spotify:album:1xgfRXjCoynPLqtdNu50pR\", \"album_name\": \"Anchors Aweigh\", \"popularity\": 42}, {\"position\": 9, \"song_name\": \"Kate Is Great\", \"song_uri\": \"spotify:track:1VT2wLreLu0l7E4T0JDedh\", \"artist_uri\": \"spotify:artist:3mvTAjG7rcyk7DQzLwauzV\", \"album_uri\": \"spotify:album:7LgICzKkhaLV9Gttn8xM7a\", \"album_name\": \"The Bouncing Souls\", \"popularity\": 41}, {\"position\": 10, \"song_name\": \"Ten Stories High\", \"song_uri\": \"spotify:track:0Wz9RJySVFtUTFQk8sjRBv\", \"artist_uri\": \"spotify:artist:3mvTAjG7rcyk7DQzLwauzV\", \"album_uri\": \"spotify:album:5xEwUAv3WJiDtHScEPliQl\", \"album_name\": \"Ten Stories High\", \"popularity\": 40}]\n",
      "```\n",
      "\n",
      "Using the output above as your data source, answer the question What are the most popular Bouncing Souls songs?. Don't describe the code or process, just answer the question.\n",
      "Answer:\u001b[0m\n",
      "\n",
      "\u001b[1m> Finished chain.\u001b[0m\n"
     ]
    }
   ],
   "source": [
    "explainer_response = explainer_chain(spotify_response)"
   ]
  },
  {
   "cell_type": "code",
   "execution_count": 328,
   "id": "8c4ab68d",
   "metadata": {},
   "outputs": [
    {
     "name": "stdout",
     "output_type": "stream",
     "text": [
      "The most popular Bouncing Souls songs, based on the provided data, are:\n",
      "\n",
      "1. True Believers\n",
      "2. Lean On Sheena\n",
      "3. Hopeless Romantic\n",
      "4. Manthem\n",
      "5. Sing Along Forever\n",
      "6. Say Anything\n",
      "7. Ole\n",
      "8. Kids and Heroes\n",
      "9. Kate Is Great\n",
      "10. Ten Stories High\n"
     ]
    }
   ],
   "source": [
    "print(explainer_response['answer'])"
   ]
  },
  {
   "cell_type": "markdown",
   "id": "8c1cbe21",
   "metadata": {},
   "source": [
    "I completely disagree with everyone's taste in music, but it's a perfect response!"
   ]
  },
  {
   "cell_type": "markdown",
   "id": "b3cf4788",
   "metadata": {},
   "source": [
    "# Connecting the chains\n",
    "\n",
    "Now that we have a working `PALChain` to access the API and an `LLMChain` to process the resulting JSON, let's connect them together so this no longer takes two steps.\n",
    "\n",
    "We're going to use a `SequentialChain` instead of a `SimpleSequentialChain` because the explainer chain needs the question, code *and* output from the API chain. The SSC only supports one thing being passed along, which would restrict its ability to get all of the necessary information."
   ]
  },
  {
   "cell_type": "code",
   "execution_count": 329,
   "id": "a510c9f4",
   "metadata": {},
   "outputs": [],
   "source": [
    "from langchain.chains import SequentialChain\n",
    "\n",
    "overall_chain = SequentialChain(\n",
    "    chains=[spotify_chain, explainer_chain],\n",
    "    input_variables=['question'],\n",
    "    verbose=True\n",
    ")"
   ]
  },
  {
   "cell_type": "code",
   "execution_count": 330,
   "id": "d0dbf405",
   "metadata": {},
   "outputs": [
    {
     "name": "stdout",
     "output_type": "stream",
     "text": [
      "\n",
      "\n",
      "\u001b[1m> Entering new SequentialChain chain...\u001b[0m\n",
      "\n",
      "\n",
      "\u001b[1m> Entering new PALChain chain...\u001b[0m\n",
      "\u001b[32;1m\u001b[1;3mdef solution():\n",
      "    \"\"\"Give me a list of Cars, Blink 182 and Sum 41 songs that are upbeat, loud and fun.\"\"\"\n",
      "    # Get the URIs for the artists\n",
      "    artists = ['The Cars', 'Blink-182', 'Sum 41']\n",
      "    artist_uris = []\n",
      "    for artist in artists:\n",
      "        search_results = sp.search(q=artist, type='artist', limit=1)\n",
      "        if search_results['artists']['total'] > 0:\n",
      "            artist_uri = search_results['artists']['items'][0]['uri']\n",
      "            artist_uris.append(artist_uri)\n",
      "    # Get the top tracks for each artist\n",
      "    tracks = []\n",
      "    for artist_uri in artist_uris:\n",
      "        artist_tracks = sp.artist_top_tracks(artist_uri)\n",
      "        tracks.extend(artist_tracks['tracks'])\n",
      "    track_uris = [track['uri'] for track in tracks]\n",
      "    # Only keep tracks that are upbeat, loud and fun\n",
      "    upbeat_tracks = []\n",
      "    for i in range(0, len(track_uris), 100):\n",
      "        subset_track_uris = track_uris[i:i+100]\n",
      "        audio_details = sp.audio_features(subset_track_uris)\n",
      "        for j, details in enumerate(audio_details):\n",
      "            if details['valence'] > 0.7 and details['energy'] > 0.7 and details['loudness'] > -7:\n",
      "                track = tracks[i+j]\n",
      "                upbeat_tracks.append({\n",
      "                    'song': track.get('name'),\n",
      "                    'artist': track.get('artists')[0].get('name'),\n",
      "                    'album': track.get('album').get('name'),\n",
      "                    'valence': details.get('valence'),\n",
      "                    'energy': details.get('energy'),\n",
      "                    'loudness': details.get('loudness'),\n",
      "                    'song_uri': track.get('uri'),\n",
      "                    'artist_uri': track.get('artists')[0].get('uri'),\n",
      "                    'album_uri': track.get('album').get('uri')\n",
      "                })\n",
      "    return upbeat_tracks[:30]\u001b[0m\n",
      "\n",
      "\u001b[1m> Finished chain.\u001b[0m\n",
      "\n",
      "\n",
      "\u001b[1m> Entering new LLMChain chain...\u001b[0m\n",
      "Prompt after formatting:\n",
      "\u001b[32;1m\u001b[1;3m \n",
      "Using this code:\n",
      "\n",
      "```python\n",
      "def solution():\n",
      "    \"\"\"Give me a list of Cars, Blink 182 and Sum 41 songs that are upbeat, loud and fun.\"\"\"\n",
      "    # Get the URIs for the artists\n",
      "    artists = ['The Cars', 'Blink-182', 'Sum 41']\n",
      "    artist_uris = []\n",
      "    for artist in artists:\n",
      "        search_results = sp.search(q=artist, type='artist', limit=1)\n",
      "        if search_results['artists']['total'] > 0:\n",
      "            artist_uri = search_results['artists']['items'][0]['uri']\n",
      "            artist_uris.append(artist_uri)\n",
      "    # Get the top tracks for each artist\n",
      "    tracks = []\n",
      "    for artist_uri in artist_uris:\n",
      "        artist_tracks = sp.artist_top_tracks(artist_uri)\n",
      "        tracks.extend(artist_tracks['tracks'])\n",
      "    track_uris = [track['uri'] for track in tracks]\n",
      "    # Only keep tracks that are upbeat, loud and fun\n",
      "    upbeat_tracks = []\n",
      "    for i in range(0, len(track_uris), 100):\n",
      "        subset_track_uris = track_uris[i:i+100]\n",
      "        audio_details = sp.audio_features(subset_track_uris)\n",
      "        for j, details in enumerate(audio_details):\n",
      "            if details['valence'] > 0.7 and details['energy'] > 0.7 and details['loudness'] > -7:\n",
      "                track = tracks[i+j]\n",
      "                upbeat_tracks.append({\n",
      "                    'song': track.get('name'),\n",
      "                    'artist': track.get('artists')[0].get('name'),\n",
      "                    'album': track.get('album').get('name'),\n",
      "                    'valence': details.get('valence'),\n",
      "                    'energy': details.get('energy'),\n",
      "                    'loudness': details.get('loudness'),\n",
      "                    'song_uri': track.get('uri'),\n",
      "                    'artist_uri': track.get('artists')[0].get('uri'),\n",
      "                    'album_uri': track.get('album').get('uri')\n",
      "                })\n",
      "    return upbeat_tracks[:30]\n",
      "```\n",
      "\n",
      "We got the following output from the Spotify API:\n",
      "\n",
      "```json\n",
      "[{\"song\": \"You Might Think\", \"artist\": \"The Cars\", \"album\": \"Heartbeat City (Expanded Edition)\", \"valence\": 0.971, \"energy\": 0.855, \"loudness\": -6.031, \"song_uri\": \"spotify:track:35wVRTJlUu2kDkqXFegOKt\", \"artist_uri\": \"spotify:artist:6DCIj8jNaNpBz8e5oKFPtp\", \"album_uri\": \"spotify:album:7LPfdVDw4uXf9Bw5LQDESf\"}, {\"song\": \"Magic - 2017 Remaster\", \"artist\": \"The Cars\", \"album\": \"Heartbeat City (Expanded Edition)\", \"valence\": 0.964, \"energy\": 0.794, \"loudness\": -6.381, \"song_uri\": \"spotify:track:0SAbkr0dS7WK3yJSjaZSZl\", \"artist_uri\": \"spotify:artist:6DCIj8jNaNpBz8e5oKFPtp\", \"album_uri\": \"spotify:album:7LPfdVDw4uXf9Bw5LQDESf\"}, {\"song\": \"Shake It Up - 2017 Remaster\", \"artist\": \"The Cars\", \"album\": \"Shake It Up (Expanded Edition)\", \"valence\": 0.854, \"energy\": 0.827, \"loudness\": -5.738, \"song_uri\": \"spotify:track:3ZBzJbqwV2gQUAe4ofghOo\", \"artist_uri\": \"spotify:artist:6DCIj8jNaNpBz8e5oKFPtp\", \"album_uri\": \"spotify:album:7KpSpJbHn3SYZIMHKkdO6V\"}, {\"song\": \"First Date\", \"artist\": \"blink-182\", \"album\": \"Take Off Your Pants And Jacket\", \"valence\": 0.882, \"energy\": 0.928, \"loudness\": -4.344, \"song_uri\": \"spotify:track:1fJFuvU2ldmeAm5nFIHcPP\", \"artist_uri\": \"spotify:artist:6FBDaR13swtiWwGhX1WQsP\", \"album_uri\": \"spotify:album:3nHpBmW5wJXGeC3ojBkpey\"}, {\"song\": \"The Rock Show\", \"artist\": \"blink-182\", \"album\": \"Take Off Your Pants And Jacket\", \"valence\": 0.83, \"energy\": 0.959, \"loudness\": -4.563, \"song_uri\": \"spotify:track:2ydUT1pFhuLDnouelIv4WH\", \"artist_uri\": \"spotify:artist:6FBDaR13swtiWwGhX1WQsP\", \"album_uri\": \"spotify:album:3nHpBmW5wJXGeC3ojBkpey\"}, {\"song\": \"EDGING\", \"artist\": \"blink-182\", \"album\": \"EDGING\", \"valence\": 0.706, \"energy\": 0.905, \"loudness\": -3.117, \"song_uri\": \"spotify:track:2wVWGFVkL5I3JGsoWBx2AZ\", \"artist_uri\": \"spotify:artist:6FBDaR13swtiWwGhX1WQsP\", \"album_uri\": \"spotify:album:0EspGdWdoWAxa5mBdQ5z55\"}, {\"song\": \"In Too Deep\", \"artist\": \"Sum 41\", \"album\": \"All Killer, No Filler\", \"valence\": 0.766, \"energy\": 0.844, \"loudness\": -5.875, \"song_uri\": \"spotify:track:1HNE2PX70ztbEl6MLxrpNL\", \"artist_uri\": \"spotify:artist:0qT79UgT5tY4yudH9VfsdT\", \"album_uri\": \"spotify:album:2UCWsnmZEVg9HhnMeKTsim\"}, {\"song\": \"Over My Head (Better Off Dead)\", \"artist\": \"Sum 41\", \"album\": \"Does This Look Infected?\", \"valence\": 0.773, \"energy\": 0.919, \"loudness\": -4.462, \"song_uri\": \"spotify:track:3SO0vfryYv381w1ImgWONG\", \"artist_uri\": \"spotify:artist:0qT79UgT5tY4yudH9VfsdT\", \"album_uri\": \"spotify:album:2kLmv0O8blKeM5HKxLtQrC\"}, {\"song\": \"Underclass Hero\", \"artist\": \"Sum 41\", \"album\": \"Underclass Hero\", \"valence\": 0.765, \"energy\": 0.988, \"loudness\": -2.979, \"song_uri\": \"spotify:track:6dXizHF3KbmdvOgvMAhnQC\", \"artist_uri\": \"spotify:artist:0qT79UgT5tY4yudH9VfsdT\", \"album_uri\": \"spotify:album:4fc73QNw5EjIorFfZ6n6YG\"}]\n",
      "```\n",
      "\n",
      "Using the output above as your data source, answer the question Give me a list of Cars, Blink 182 and Sum 41 songs that are upbeat, loud and fun. Make sure the songs are popular enough for me to have heard of them.. Don't describe the code or process, just answer the question.\n",
      "Answer:\u001b[0m\n",
      "\n",
      "\u001b[1m> Finished chain.\u001b[0m\n",
      "\n",
      "\u001b[1m> Finished chain.\u001b[0m\n"
     ]
    }
   ],
   "source": [
    "overall_response = overall_chain.run(\"Give me a list of Cars, Blink 182 and Sum 41 songs that are upbeat, loud and fun. Make sure the songs are popular enough for me to have heard of them.\")"
   ]
  },
  {
   "cell_type": "code",
   "execution_count": 331,
   "id": "1d947b40",
   "metadata": {},
   "outputs": [
    {
     "name": "stdout",
     "output_type": "stream",
     "text": [
      "- You Might Think by The Cars\n",
      "- Magic by The Cars \n",
      "- Shake It Up by The Cars\n",
      "- First Date by blink-182 \n",
      "- The Rock Show by blink-182 \n",
      "- In Too Deep by Sum 41 \n",
      "- Over My Head (Better Off Dead) by Sum 41 \n",
      "- Underclass Hero by Sum 41\n"
     ]
    }
   ],
   "source": [
    "print(overall_response)"
   ]
  },
  {
   "cell_type": "markdown",
   "id": "17a68293",
   "metadata": {},
   "source": [
    "**Tada! There we go! That's it!** That's... it? Guess the magic is in the process.\n",
    "\n",
    "Let's see how it approached each aspect of my prompt:\n",
    "\n",
    "> Give me a list of Cars, Blink 182 and Sum 41 songs\n",
    "\n",
    "Made a list of the bands, looped through each band to search for them.\n",
    "\n",
    "```python\n",
    "artists = ['The Cars', 'Blink-182', 'Sum 41']\n",
    "artist_uris = []\n",
    "for artist in artists:\n",
    "    search_results = sp.search(q=artist, type='artist', limit=1)\n",
    "```\n",
    "\n",
    "> Make sure the songs are popular enough for me to have heard of them.\n",
    "\n",
    "GPT only pulled the top tracks from each artist, which implies popularity.\n",
    "\n",
    "```python\n",
    "for artist_uri in artist_uris:\n",
    "    artist_tracks = sp.artist_top_tracks(artist_uri)\n",
    "    tracks.extend(artist_tracks['tracks'])\n",
    "```\n",
    "\n",
    "> that are upbeat, loud and fun.\n",
    "\n",
    "Filtering is done based on scores of valence, energy and loudness. Valence is \"musical positiveness,\" so that plus energy and loudness seems like a reasonable decision.\n",
    "\n",
    "```python\n",
    "audio_details = sp.audio_features(subset_track_uris)\n",
    "for j, details in enumerate(audio_details):\n",
    "    if details['valence'] > 0.7 and details['energy'] > 0.7 and details['loudness'] > -7:\n",
    "        track = tracks[i+j]\n",
    "```\n",
    "\n",
    "One of the redeeming parts of running this code again and again was seeing how GPT translated the qualitative characteristics like \"loud\" or \"fun\" into actual quantitative numbers. Almost every time was a little bit different!"
   ]
  },
  {
   "cell_type": "markdown",
   "id": "fa73e8ec",
   "metadata": {},
   "source": [
    "# Reflections\n",
    "\n",
    "Mission: accomplished?\n",
    "\n",
    "This was not as easy as I thought, *and* the end result isn't as nice as I'd like! But the path was really worth it in terms of exploration and understanding. Let's talk about a few difficulties I ran into:\n",
    "\n",
    "**I resisted reading the LangChain source early on,** and trying to make do with only the examples really slowed me down. Just open the code!!!! It's plenty readable and concepts that might have been fuzzy clear up when you really dig in and see how the pieces fit together.\n",
    "\n",
    "**Reminding GPT of gotchas with the Spotify API was difficult.** For example, tracks don't have `track['album']['name']` if they're from the `sp.album_tracks` endpoint while they do from `sp.artist_top_tracks`, different endpoints have different limits, etc etc. Carefully crafting examples while trying to not have ten thousand of them was not fun.\n",
    "\n",
    "**Convincing the PALChain to not do too much work was almost impossible.** Since a Python-executing `PALChain` can do pretty much *anything*, it would often end up giving me Markdown tables or other formatting situations that I was hoping to instead get from the later `LLMChain` output. The fix as a combination of fine-tuning the prompt – *\"you are ONLY providing DATA\"* – and adjusting my queries into a format closer to \"find this data, then display it this way.\"\n",
    "\n",
    "All in all, maybe this would probably be better broken up into pieces via ReAct tools? I just didn't think of that until I was like halfway through, but we at least survived.\n",
    "\n",
    "::: {.callout-warning}\n",
    "## It didn't make a playlist!!! It just gave you a list of songs!!!\n",
    "\n",
    "As much as I'm proud of my little LangChain child here, I was not about to give this bad boy access to my Spotify playlists. That also would have simplified the process - instead of going through the second `LLMChain`, we could have simply stopped at the `PALChain` part!\n",
    "\n",
    "It's also slightly more complicated auth flow with Spotify, which I didn't want to step through. Maybe next time!\n",
    ":::\n",
    "\n",
    "Feel free to check [the GitHub repo](https://github.com/jsoma/spotify-langchain-gpt) if you'd like a simple notebook that has the code pre-arranged for you."
   ]
  },
  {
   "cell_type": "code",
   "execution_count": null,
   "id": "1f22c182",
   "metadata": {},
   "outputs": [],
   "source": []
  }
 ],
 "metadata": {
  "kernelspec": {
   "display_name": "Python 3 (ipykernel)",
   "language": "python",
   "name": "python3"
  },
  "language_info": {
   "codemirror_mode": {
    "name": "ipython",
    "version": 3
   },
   "file_extension": ".py",
   "mimetype": "text/x-python",
   "name": "python",
   "nbconvert_exporter": "python",
   "pygments_lexer": "ipython3",
   "version": "3.10.3"
  }
 },
 "nbformat": 4,
 "nbformat_minor": 5
}
